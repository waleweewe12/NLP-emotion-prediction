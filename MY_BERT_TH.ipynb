{
 "cells": [
  {
   "cell_type": "code",
   "execution_count": 22,
   "metadata": {},
   "outputs": [],
   "source": [
    "from tokenizers import ByteLevelBPETokenizer"
   ]
  },
  {
   "cell_type": "code",
   "execution_count": 23,
   "metadata": {},
   "outputs": [],
   "source": [
    "paths = './tokenized-questions.txt'\n",
    "\n",
    "tokenizer = ByteLevelBPETokenizer()\n",
    "\n",
    "tokenizer.train(files=paths, vocab_size=52_000, min_frequency=2, special_tokens=[\n",
    "    \"<s>\",\n",
    "    \"<pad>\",\n",
    "    \"</s>\",\n",
    "    \"<unk>\",\n",
    "    \"<mask>\",\n",
    "])"
   ]
  },
  {
   "cell_type": "code",
   "execution_count": 24,
   "metadata": {},
   "outputs": [],
   "source": [
    "from tokenizers import ByteLevelBPETokenizer, BertWordPieceTokenizer\n",
    "\n",
    "# this need token: [SEP], [CLS], unk, mask\n",
    "tokenizer_bert = BertWordPieceTokenizer(strip_accents=False, lowercase=False, \\\n",
    "                                        handle_chinese_chars=False, clean_text=False)\n",
    "tokenizer_bert.train(files=paths, vocab_size=52_000, min_frequency=2, \n",
    "                special_tokens=['[PAD]', '[UNK]', '[CLS]', '[SEP]', '[MASK]' ])"
   ]
  },
  {
   "cell_type": "code",
   "execution_count": 25,
   "metadata": {},
   "outputs": [],
   "source": [
    "tokenizer_bert.save(\"BERT\")"
   ]
  },
  {
   "cell_type": "code",
   "execution_count": 27,
   "metadata": {},
   "outputs": [],
   "source": [
    "import json\n",
    "config = {\n",
    "\t\"architectures\": [\n",
    "\t\t\"BertForMaskedLM\"\n",
    "\t],\n",
    "\t\"attention_probs_dropout_prob\": 0.1,\n",
    "\t\"hidden_act\": \"gelu\",\n",
    "\t\"hidden_dropout_prob\": 0.1,\n",
    "\t\"hidden_size\": 768,\n",
    "\t\"initializer_range\": 0.02,\n",
    "\t\"intermediate_size\": 3072,\n",
    "\t\"layer_norm_eps\": 1e-05,\n",
    "\t\"max_position_embeddings\": 514,\n",
    "\t\"model_type\": \"bert\",\n",
    "\t\"num_attention_heads\": 12,\n",
    "\t\"num_hidden_layers\": 6,\n",
    "\t\"type_vocab_size\": 1,\n",
    "\t\"vocab_size\": 52000,\n",
    "\t\"vocab_file\": \"./BERT/vocab.txt\"\n",
    "}\n",
    "with open(\"./BERT/config.json\", 'w') as fp:\n",
    "    json.dump(config, fp)\n",
    "\n",
    "tokenizer_config = {\n",
    "\t\"max_len\": 512\n",
    "}\n",
    "with open(\"./BERT/tokenizer.json\", 'w') as fp:\n",
    "    json.dump(tokenizer_config, fp)"
   ]
  },
  {
   "cell_type": "code",
   "execution_count": 28,
   "metadata": {},
   "outputs": [
    {
     "name": "stdout",
     "output_type": "stream",
     "text": [
      "cuda avail: True\n",
      "id: GeForce GTX 1050\n"
     ]
    }
   ],
   "source": [
    "import torch\n",
    "print(\"cuda avail:\", torch.cuda.is_available())\n",
    "print(\"id:\", torch.cuda.get_device_name(0))"
   ]
  },
  {
   "cell_type": "code",
   "execution_count": 29,
   "metadata": {},
   "outputs": [],
   "source": [
    "torch.cuda.empty_cache()"
   ]
  },
  {
   "cell_type": "code",
   "execution_count": null,
   "metadata": {},
   "outputs": [],
   "source": []
  }
 ],
 "metadata": {
  "kernelspec": {
   "display_name": "Python 3",
   "language": "python",
   "name": "python3"
  },
  "language_info": {
   "codemirror_mode": {
    "name": "ipython",
    "version": 3
   },
   "file_extension": ".py",
   "mimetype": "text/x-python",
   "name": "python",
   "nbconvert_exporter": "python",
   "pygments_lexer": "ipython3",
   "version": "3.7.6"
  }
 },
 "nbformat": 4,
 "nbformat_minor": 4
}

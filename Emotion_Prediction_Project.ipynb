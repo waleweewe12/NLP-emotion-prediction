{
 "cells": [
  {
   "cell_type": "code",
   "execution_count": 48,
   "metadata": {},
   "outputs": [],
   "source": [
    "import pandas as pd\n",
    "df = pd.read_pickle(r'data.pickle')"
   ]
  },
  {
   "cell_type": "code",
   "execution_count": 49,
   "metadata": {},
   "outputs": [
    {
     "data": {
      "text/html": [
       "<div>\n",
       "<style scoped>\n",
       "    .dataframe tbody tr th:only-of-type {\n",
       "        vertical-align: middle;\n",
       "    }\n",
       "\n",
       "    .dataframe tbody tr th {\n",
       "        vertical-align: top;\n",
       "    }\n",
       "\n",
       "    .dataframe thead th {\n",
       "        text-align: right;\n",
       "    }\n",
       "</style>\n",
       "<table border=\"1\" class=\"dataframe\">\n",
       "  <thead>\n",
       "    <tr style=\"text-align: right;\">\n",
       "      <th></th>\n",
       "      <th>id</th>\n",
       "      <th>question</th>\n",
       "      <th>answer</th>\n",
       "      <th>labeller</th>\n",
       "      <th>emo_class</th>\n",
       "      <th>seven_emo</th>\n",
       "      <th>intent</th>\n",
       "      <th>topic</th>\n",
       "      <th>keyword_vec</th>\n",
       "      <th>similarity</th>\n",
       "      <th>reviewed</th>\n",
       "      <th>created_at</th>\n",
       "      <th>updated_at</th>\n",
       "      <th>url</th>\n",
       "    </tr>\n",
       "  </thead>\n",
       "  <tbody>\n",
       "    <tr>\n",
       "      <th>0</th>\n",
       "      <td>1</td>\n",
       "      <td>ชิว</td>\n",
       "      <td>ก็ดีแล้ว นอนชิว นั่งชิว ขนาดกินยังชิว :)</td>\n",
       "      <td>None</td>\n",
       "      <td>pos_de</td>\n",
       "      <td>relaxed</td>\n",
       "      <td>chitchat</td>\n",
       "      <td>general</td>\n",
       "      <td>0.6564798951148987,-1.8736761808395386,0.49881...</td>\n",
       "      <td>1.0</td>\n",
       "      <td>True</td>\n",
       "      <td>2019-06-03T13:52:59.000+07:00</td>\n",
       "      <td>2019-08-04T08:03:10.000+07:00</td>\n",
       "      <td>http://chitchat.tunejai.com/chats/1.json</td>\n",
       "    </tr>\n",
       "    <tr>\n",
       "      <th>1</th>\n",
       "      <td>2</td>\n",
       "      <td>ไม่นอนในเวลางานสิ</td>\n",
       "      <td>ของีบนิดนึงไม่ได้หรอ</td>\n",
       "      <td>None</td>\n",
       "      <td>neu</td>\n",
       "      <td>neutral</td>\n",
       "      <td>chitchat</td>\n",
       "      <td>general</td>\n",
       "      <td>0.5782301053404808,0.3987545693914096,0.271282...</td>\n",
       "      <td>1.0</td>\n",
       "      <td>True</td>\n",
       "      <td>2019-06-03T13:52:59.000+07:00</td>\n",
       "      <td>2019-08-04T08:04:00.000+07:00</td>\n",
       "      <td>http://chitchat.tunejai.com/chats/2.json</td>\n",
       "    </tr>\n",
       "    <tr>\n",
       "      <th>2</th>\n",
       "      <td>3</td>\n",
       "      <td>อืมา</td>\n",
       "      <td>🙂</td>\n",
       "      <td>None</td>\n",
       "      <td>neu</td>\n",
       "      <td>neutral</td>\n",
       "      <td>chitchat</td>\n",
       "      <td>general</td>\n",
       "      <td>0.0,0.0,0.0,0.0,0.0,0.0,0.0,0.0,0.0,0.0,0.0,0....</td>\n",
       "      <td>1.0</td>\n",
       "      <td>True</td>\n",
       "      <td>2019-06-03T13:52:59.000+07:00</td>\n",
       "      <td>2019-08-04T08:04:23.000+07:00</td>\n",
       "      <td>http://chitchat.tunejai.com/chats/3.json</td>\n",
       "    </tr>\n",
       "    <tr>\n",
       "      <th>3</th>\n",
       "      <td>4</td>\n",
       "      <td>หยิบยังไงอะ</td>\n",
       "      <td>เอามือหยิบสิ</td>\n",
       "      <td>None</td>\n",
       "      <td>neu</td>\n",
       "      <td>neutral</td>\n",
       "      <td>chitchat</td>\n",
       "      <td>general</td>\n",
       "      <td>0.038666918873786926,-0.18005990283563733,-0.1...</td>\n",
       "      <td>1.0</td>\n",
       "      <td>True</td>\n",
       "      <td>2019-06-03T13:52:59.000+07:00</td>\n",
       "      <td>2019-08-04T08:04:50.000+07:00</td>\n",
       "      <td>http://chitchat.tunejai.com/chats/4.json</td>\n",
       "    </tr>\n",
       "    <tr>\n",
       "      <th>4</th>\n",
       "      <td>5</td>\n",
       "      <td>ระหว่าง sumsung กับ iphone ใช้อะไรดี</td>\n",
       "      <td>เธอว่าไงก็ว่างั้นละ มันแล้วแต่คนชอบ</td>\n",
       "      <td>None</td>\n",
       "      <td>neu</td>\n",
       "      <td>neutral</td>\n",
       "      <td>question</td>\n",
       "      <td>general</td>\n",
       "      <td>0.3020523651079698,0.10027491030367938,-0.2324...</td>\n",
       "      <td>1.0</td>\n",
       "      <td>True</td>\n",
       "      <td>2019-06-03T13:52:59.000+07:00</td>\n",
       "      <td>2019-08-04T08:05:24.000+07:00</td>\n",
       "      <td>http://chitchat.tunejai.com/chats/5.json</td>\n",
       "    </tr>\n",
       "  </tbody>\n",
       "</table>\n",
       "</div>"
      ],
      "text/plain": [
       "   id                              question  \\\n",
       "0   1                                   ชิว   \n",
       "1   2                     ไม่นอนในเวลางานสิ   \n",
       "2   3                                  อืมา   \n",
       "3   4                           หยิบยังไงอะ   \n",
       "4   5  ระหว่าง sumsung กับ iphone ใช้อะไรดี   \n",
       "\n",
       "                                     answer labeller emo_class seven_emo  \\\n",
       "0  ก็ดีแล้ว นอนชิว นั่งชิว ขนาดกินยังชิว :)     None    pos_de   relaxed   \n",
       "1                      ของีบนิดนึงไม่ได้หรอ     None       neu   neutral   \n",
       "2                                         🙂     None       neu   neutral   \n",
       "3                              เอามือหยิบสิ     None       neu   neutral   \n",
       "4      เธอว่าไงก็ว่างั้นละ มันแล้วแต่คนชอบ      None       neu   neutral   \n",
       "\n",
       "     intent    topic                                        keyword_vec  \\\n",
       "0  chitchat  general  0.6564798951148987,-1.8736761808395386,0.49881...   \n",
       "1  chitchat  general  0.5782301053404808,0.3987545693914096,0.271282...   \n",
       "2  chitchat  general  0.0,0.0,0.0,0.0,0.0,0.0,0.0,0.0,0.0,0.0,0.0,0....   \n",
       "3  chitchat  general  0.038666918873786926,-0.18005990283563733,-0.1...   \n",
       "4  question  general  0.3020523651079698,0.10027491030367938,-0.2324...   \n",
       "\n",
       "   similarity  reviewed                     created_at  \\\n",
       "0         1.0      True  2019-06-03T13:52:59.000+07:00   \n",
       "1         1.0      True  2019-06-03T13:52:59.000+07:00   \n",
       "2         1.0      True  2019-06-03T13:52:59.000+07:00   \n",
       "3         1.0      True  2019-06-03T13:52:59.000+07:00   \n",
       "4         1.0      True  2019-06-03T13:52:59.000+07:00   \n",
       "\n",
       "                      updated_at                                       url  \n",
       "0  2019-08-04T08:03:10.000+07:00  http://chitchat.tunejai.com/chats/1.json  \n",
       "1  2019-08-04T08:04:00.000+07:00  http://chitchat.tunejai.com/chats/2.json  \n",
       "2  2019-08-04T08:04:23.000+07:00  http://chitchat.tunejai.com/chats/3.json  \n",
       "3  2019-08-04T08:04:50.000+07:00  http://chitchat.tunejai.com/chats/4.json  \n",
       "4  2019-08-04T08:05:24.000+07:00  http://chitchat.tunejai.com/chats/5.json  "
      ]
     },
     "execution_count": 49,
     "metadata": {},
     "output_type": "execute_result"
    }
   ],
   "source": [
    "df = pd.DataFrame(df)\n",
    "df.head()"
   ]
  },
  {
   "cell_type": "code",
   "execution_count": 50,
   "metadata": {},
   "outputs": [
    {
     "name": "stdout",
     "output_type": "stream",
     "text": [
      "<class 'pandas.core.frame.DataFrame'>\n",
      "RangeIndex: 26853 entries, 0 to 26852\n",
      "Data columns (total 14 columns):\n",
      " #   Column       Non-Null Count  Dtype  \n",
      "---  ------       --------------  -----  \n",
      " 0   id           26853 non-null  int64  \n",
      " 1   question     26853 non-null  object \n",
      " 2   answer       26853 non-null  object \n",
      " 3   labeller     0 non-null      object \n",
      " 4   emo_class    26827 non-null  object \n",
      " 5   seven_emo    26779 non-null  object \n",
      " 6   intent       26848 non-null  object \n",
      " 7   topic        26791 non-null  object \n",
      " 8   keyword_vec  26853 non-null  object \n",
      " 9   similarity   26853 non-null  float64\n",
      " 10  reviewed     26853 non-null  bool   \n",
      " 11  created_at   26853 non-null  object \n",
      " 12  updated_at   26853 non-null  object \n",
      " 13  url          26853 non-null  object \n",
      "dtypes: bool(1), float64(1), int64(1), object(11)\n",
      "memory usage: 2.7+ MB\n"
     ]
    }
   ],
   "source": [
    "df.info()"
   ]
  },
  {
   "cell_type": "code",
   "execution_count": 51,
   "metadata": {},
   "outputs": [
    {
     "data": {
      "text/plain": [
       "{None,\n",
       " 'angry',\n",
       " 'bored',\n",
       " 'depressed',\n",
       " 'happy',\n",
       " 'neutral',\n",
       " 'relaxed',\n",
       " 'stressed'}"
      ]
     },
     "execution_count": 51,
     "metadata": {},
     "output_type": "execute_result"
    }
   ],
   "source": [
    "set(df['seven_emo'])"
   ]
  },
  {
   "cell_type": "code",
   "execution_count": 72,
   "metadata": {},
   "outputs": [],
   "source": [
    "\"\"\"\n",
    "features = df['question']\n",
    "label = df['seven_emo']\n",
    "\"\"\"\n",
    "features_and_label = df[['question','seven_emo']]"
   ]
  },
  {
   "cell_type": "code",
   "execution_count": 73,
   "metadata": {},
   "outputs": [
    {
     "data": {
      "text/html": [
       "<div>\n",
       "<style scoped>\n",
       "    .dataframe tbody tr th:only-of-type {\n",
       "        vertical-align: middle;\n",
       "    }\n",
       "\n",
       "    .dataframe tbody tr th {\n",
       "        vertical-align: top;\n",
       "    }\n",
       "\n",
       "    .dataframe thead th {\n",
       "        text-align: right;\n",
       "    }\n",
       "</style>\n",
       "<table border=\"1\" class=\"dataframe\">\n",
       "  <thead>\n",
       "    <tr style=\"text-align: right;\">\n",
       "      <th></th>\n",
       "      <th>question</th>\n",
       "      <th>seven_emo</th>\n",
       "    </tr>\n",
       "  </thead>\n",
       "  <tbody>\n",
       "    <tr>\n",
       "      <th>0</th>\n",
       "      <td>ชิว</td>\n",
       "      <td>relaxed</td>\n",
       "    </tr>\n",
       "    <tr>\n",
       "      <th>1</th>\n",
       "      <td>ไม่นอนในเวลางานสิ</td>\n",
       "      <td>neutral</td>\n",
       "    </tr>\n",
       "    <tr>\n",
       "      <th>2</th>\n",
       "      <td>อืมา</td>\n",
       "      <td>neutral</td>\n",
       "    </tr>\n",
       "    <tr>\n",
       "      <th>3</th>\n",
       "      <td>หยิบยังไงอะ</td>\n",
       "      <td>neutral</td>\n",
       "    </tr>\n",
       "    <tr>\n",
       "      <th>4</th>\n",
       "      <td>ระหว่าง sumsung กับ iphone ใช้อะไรดี</td>\n",
       "      <td>neutral</td>\n",
       "    </tr>\n",
       "    <tr>\n",
       "      <th>...</th>\n",
       "      <td>...</td>\n",
       "      <td>...</td>\n",
       "    </tr>\n",
       "    <tr>\n",
       "      <th>26848</th>\n",
       "      <td>ไม่ หมายถึงจับใจน่ะไปนอน</td>\n",
       "      <td>neutral</td>\n",
       "    </tr>\n",
       "    <tr>\n",
       "      <th>26849</th>\n",
       "      <td>วันนี้เด๋อนะ</td>\n",
       "      <td>neutral</td>\n",
       "    </tr>\n",
       "    <tr>\n",
       "      <th>26850</th>\n",
       "      <td>แยกย้ายนะ บาย</td>\n",
       "      <td>neutral</td>\n",
       "    </tr>\n",
       "    <tr>\n",
       "      <th>26851</th>\n",
       "      <td>เราโง่ขนาดนั้นเลยหรอ</td>\n",
       "      <td>depressed</td>\n",
       "    </tr>\n",
       "    <tr>\n",
       "      <th>26852</th>\n",
       "      <td>ใช่บอทน้อยรึป่าว</td>\n",
       "      <td>neutral</td>\n",
       "    </tr>\n",
       "  </tbody>\n",
       "</table>\n",
       "<p>26853 rows × 2 columns</p>\n",
       "</div>"
      ],
      "text/plain": [
       "                                   question  seven_emo\n",
       "0                                       ชิว    relaxed\n",
       "1                         ไม่นอนในเวลางานสิ    neutral\n",
       "2                                      อืมา    neutral\n",
       "3                               หยิบยังไงอะ    neutral\n",
       "4      ระหว่าง sumsung กับ iphone ใช้อะไรดี    neutral\n",
       "...                                     ...        ...\n",
       "26848              ไม่ หมายถึงจับใจน่ะไปนอน    neutral\n",
       "26849                          วันนี้เด๋อนะ    neutral\n",
       "26850                         แยกย้ายนะ บาย    neutral\n",
       "26851                  เราโง่ขนาดนั้นเลยหรอ  depressed\n",
       "26852                      ใช่บอทน้อยรึป่าว    neutral\n",
       "\n",
       "[26853 rows x 2 columns]"
      ]
     },
     "execution_count": 73,
     "metadata": {},
     "output_type": "execute_result"
    }
   ],
   "source": [
    "features_and_label"
   ]
  },
  {
   "cell_type": "code",
   "execution_count": 74,
   "metadata": {},
   "outputs": [],
   "source": [
    "#ค่า label ที่เป็น None ตัดทิ้งไปได้เลย ต่อให้มี question แต่ไม่รู้เฉลยก็ไร้ประโยชน์\n",
    "features_and_label = features_and_label.dropna()"
   ]
  },
  {
   "cell_type": "code",
   "execution_count": 75,
   "metadata": {},
   "outputs": [],
   "source": [
    "angry = features_and_label.loc[features_and_label['seven_emo']=='angry'].sample(1028)\n",
    "bored = features_and_label.loc[features_and_label['seven_emo']=='bored'].sample(1028)\n",
    "depressed = features_and_label.loc[features_and_label['seven_emo']=='depressed'].sample(1028)\n",
    "happy = features_and_label.loc[features_and_label['seven_emo']=='happy'].sample(1028)\n",
    "neutral = features_and_label.loc[features_and_label['seven_emo']=='neutral'].sample(1028)\n",
    "relaxed = features_and_label.loc[features_and_label['seven_emo']=='relaxed'].sample(1028)\n",
    "stressed = features_and_label.loc[features_and_label['seven_emo']=='stressed'].sample(1028)\n",
    "\n",
    "features_and_label = angry\n",
    "features_and_label = features_and_label.append(bored)\n",
    "features_and_label = features_and_label.append(depressed)\n",
    "features_and_label = features_and_label.append(happy)\n",
    "features_and_label = features_and_label.append(neutral)\n",
    "features_and_label = features_and_label.append(relaxed)\n",
    "features_and_label = features_and_label.append(stressed)"
   ]
  },
  {
   "cell_type": "code",
   "execution_count": 76,
   "metadata": {},
   "outputs": [
    {
     "data": {
      "text/html": [
       "<div>\n",
       "<style scoped>\n",
       "    .dataframe tbody tr th:only-of-type {\n",
       "        vertical-align: middle;\n",
       "    }\n",
       "\n",
       "    .dataframe tbody tr th {\n",
       "        vertical-align: top;\n",
       "    }\n",
       "\n",
       "    .dataframe thead th {\n",
       "        text-align: right;\n",
       "    }\n",
       "</style>\n",
       "<table border=\"1\" class=\"dataframe\">\n",
       "  <thead>\n",
       "    <tr style=\"text-align: right;\">\n",
       "      <th></th>\n",
       "      <th>question</th>\n",
       "      <th>seven_emo</th>\n",
       "    </tr>\n",
       "  </thead>\n",
       "  <tbody>\n",
       "    <tr>\n",
       "      <th>4323</th>\n",
       "      <td>เสียตังค์ขึ้นทางด่วนเพื่อมารถติดแบบยกระดับหรอ</td>\n",
       "      <td>angry</td>\n",
       "    </tr>\n",
       "    <tr>\n",
       "      <th>22912</th>\n",
       "      <td>คุยหลกันแค่จ้า แล้วมาบอกว่าสนุก</td>\n",
       "      <td>angry</td>\n",
       "    </tr>\n",
       "    <tr>\n",
       "      <th>18557</th>\n",
       "      <td>กุอกหักแล้วมาถามว่าใครทำร้าย สงสัยอุลตร้าแมนมั้ง</td>\n",
       "      <td>angry</td>\n",
       "    </tr>\n",
       "    <tr>\n",
       "      <th>83</th>\n",
       "      <td>อย่ามาตั้งแง่</td>\n",
       "      <td>angry</td>\n",
       "    </tr>\n",
       "    <tr>\n",
       "      <th>23367</th>\n",
       "      <td>โกด</td>\n",
       "      <td>angry</td>\n",
       "    </tr>\n",
       "    <tr>\n",
       "      <th>...</th>\n",
       "      <td>...</td>\n",
       "      <td>...</td>\n",
       "    </tr>\n",
       "    <tr>\n",
       "      <th>13352</th>\n",
       "      <td>ทำแบบไหนถึงจะพอใจทุกคน</td>\n",
       "      <td>stressed</td>\n",
       "    </tr>\n",
       "    <tr>\n",
       "      <th>3776</th>\n",
       "      <td>ตัดสินใจไม่ได้สักที</td>\n",
       "      <td>stressed</td>\n",
       "    </tr>\n",
       "    <tr>\n",
       "      <th>24137</th>\n",
       "      <td>แต่กลัวทำไม่ได้</td>\n",
       "      <td>stressed</td>\n",
       "    </tr>\n",
       "    <tr>\n",
       "      <th>21083</th>\n",
       "      <td>คิดว่าเราจะไปปีนเขาได้มั้ย</td>\n",
       "      <td>stressed</td>\n",
       "    </tr>\n",
       "    <tr>\n",
       "      <th>6928</th>\n",
       "      <td>แต่กลัวว่าถ้าไปหางานใหม่จะไม่ได้ในสิ่งที่ต้องก...</td>\n",
       "      <td>stressed</td>\n",
       "    </tr>\n",
       "  </tbody>\n",
       "</table>\n",
       "<p>7196 rows × 2 columns</p>\n",
       "</div>"
      ],
      "text/plain": [
       "                                                question seven_emo\n",
       "4323       เสียตังค์ขึ้นทางด่วนเพื่อมารถติดแบบยกระดับหรอ     angry\n",
       "22912                    คุยหลกันแค่จ้า แล้วมาบอกว่าสนุก     angry\n",
       "18557   กุอกหักแล้วมาถามว่าใครทำร้าย สงสัยอุลตร้าแมนมั้ง     angry\n",
       "83                                         อย่ามาตั้งแง่     angry\n",
       "23367                                                โกด     angry\n",
       "...                                                  ...       ...\n",
       "13352                             ทำแบบไหนถึงจะพอใจทุกคน  stressed\n",
       "3776                                 ตัดสินใจไม่ได้สักที  stressed\n",
       "24137                                    แต่กลัวทำไม่ได้  stressed\n",
       "21083                         คิดว่าเราจะไปปีนเขาได้มั้ย  stressed\n",
       "6928   แต่กลัวว่าถ้าไปหางานใหม่จะไม่ได้ในสิ่งที่ต้องก...  stressed\n",
       "\n",
       "[7196 rows x 2 columns]"
      ]
     },
     "execution_count": 76,
     "metadata": {},
     "output_type": "execute_result"
    }
   ],
   "source": [
    "features_and_label"
   ]
  },
  {
   "cell_type": "code",
   "execution_count": 77,
   "metadata": {},
   "outputs": [],
   "source": [
    "X = features_and_label['question']\n",
    "y = features_and_label['seven_emo']"
   ]
  },
  {
   "cell_type": "code",
   "execution_count": 78,
   "metadata": {},
   "outputs": [],
   "source": [
    "import deepcut"
   ]
  },
  {
   "cell_type": "code",
   "execution_count": 79,
   "metadata": {},
   "outputs": [],
   "source": [
    "tokenized_text = []\n",
    "\n",
    "for text in X:\n",
    "    tokenize = deepcut.tokenize(text)\n",
    "    tokenized_text.append(tokenize)"
   ]
  },
  {
   "cell_type": "code",
   "execution_count": 80,
   "metadata": {},
   "outputs": [
    {
     "data": {
      "text/plain": [
       "['คุย', 'หลกัน', 'แค่', 'จ้า', ' ', 'แล้ว', 'มา', 'บอก', 'ว่า', 'สนุก']"
      ]
     },
     "execution_count": 80,
     "metadata": {},
     "output_type": "execute_result"
    }
   ],
   "source": [
    "tokenized_text[1]"
   ]
  },
  {
   "cell_type": "code",
   "execution_count": 81,
   "metadata": {},
   "outputs": [
    {
     "name": "stdout",
     "output_type": "stream",
     "text": [
      "6.851584213451917\n"
     ]
    }
   ],
   "source": [
    "sum = 0\n",
    "for t in tokenized_text:\n",
    "    sum = sum + len(t)\n",
    "print(sum / len(tokenized_text))"
   ]
  },
  {
   "cell_type": "markdown",
   "metadata": {},
   "source": [
    "ความยาวเฉลี่ยของคำแต่ละ questions อยู่ที่ประมาณ 7 คำ"
   ]
  },
  {
   "cell_type": "code",
   "execution_count": 83,
   "metadata": {},
   "outputs": [],
   "source": [
    "with open('tokenized-questions.txt', 'w',encoding='utf-8') as f:\n",
    "    for token_line in tokenized_text:\n",
    "        joint_line = ''\n",
    "        for token in token_line:\n",
    "            joint_line += (token + ' ')\n",
    "        f.write(joint_line)"
   ]
  },
  {
   "cell_type": "code",
   "execution_count": 84,
   "metadata": {},
   "outputs": [],
   "source": [
    "import fasttext"
   ]
  },
  {
   "cell_type": "code",
   "execution_count": 85,
   "metadata": {},
   "outputs": [],
   "source": [
    "model = fasttext.train_unsupervised('tokenized-questions.txt', model='skipgram')"
   ]
  },
  {
   "cell_type": "code",
   "execution_count": null,
   "metadata": {},
   "outputs": [],
   "source": [
    "#อันนี้คือทำ word embedding ด้วย fasttext เสร็จแล้ว\n",
    "model.save_model(\"model_questions.bin\")"
   ]
  },
  {
   "cell_type": "code",
   "execution_count": null,
   "metadata": {},
   "outputs": [],
   "source": [
    "model.save_model(\"vec_questions.vec\")"
   ]
  },
  {
   "cell_type": "code",
   "execution_count": 86,
   "metadata": {},
   "outputs": [],
   "source": [
    "#โหลด word embedding ที่ทำด้วย fasttext มาใช้\n",
    "fasttext_model_positive = fasttext.load_model(\"model_positive.bin\")\n",
    "fasttext_model_negative = fasttext.load_model(\"model_negative.bin\")\n",
    "fasttext_model_all = fasttext.load_model(\"model_all.bin\")"
   ]
  },
  {
   "cell_type": "code",
   "execution_count": 87,
   "metadata": {},
   "outputs": [
    {
     "name": "stdout",
     "output_type": "stream",
     "text": [
      "99177\n"
     ]
    }
   ],
   "source": [
    "print(len(fasttext_model_all.words))"
   ]
  },
  {
   "cell_type": "code",
   "execution_count": 88,
   "metadata": {},
   "outputs": [],
   "source": [
    "for t in tokenized_text:\n",
    "    if(len(t) < 7):\n",
    "        for i in range(7-len(t)):\n",
    "            t.append(' ')\n",
    "    else:\n",
    "        for i in range(len(t)-7):\n",
    "            t.pop()"
   ]
  },
  {
   "cell_type": "code",
   "execution_count": 89,
   "metadata": {},
   "outputs": [
    {
     "data": {
      "text/plain": [
       "['เสียตังค์', 'ขึ้น', 'ทาง', 'ด่วน', 'เพื่อ', 'มา', 'รถ']"
      ]
     },
     "execution_count": 89,
     "metadata": {},
     "output_type": "execute_result"
    }
   ],
   "source": [
    "tokenized_text[0]"
   ]
  },
  {
   "cell_type": "code",
   "execution_count": 99,
   "metadata": {},
   "outputs": [],
   "source": [
    "import numpy as np\n",
    "y = np.array(y)"
   ]
  },
  {
   "cell_type": "code",
   "execution_count": 100,
   "metadata": {},
   "outputs": [],
   "source": [
    "questions = []\n",
    "\n",
    "for t in range(len(tokenized_text)):\n",
    "    question = []\n",
    "    for word in tokenized_text[t]:\n",
    "        if y[t] == 'angry' or y[t] == 'bored' or y[t] == 'depressed' or y[t] == 'stressed':   \n",
    "            vec = fasttext_model_negative.get_word_vector(word)\n",
    "        elif y[t] == 'happy' or y[t] == 'relaxed':\n",
    "            vec = fasttext_model_positive.get_word_vector(word)\n",
    "        else:\n",
    "            vec = fasttext_model_all.get_word_vector(word)\n",
    "        question.append(vec)\n",
    "    questions.append(np.array(question))"
   ]
  },
  {
   "cell_type": "code",
   "execution_count": 101,
   "metadata": {},
   "outputs": [
    {
     "data": {
      "text/plain": [
       "(7, 100)"
      ]
     },
     "execution_count": 101,
     "metadata": {},
     "output_type": "execute_result"
    }
   ],
   "source": [
    "questions[0].shape"
   ]
  },
  {
   "cell_type": "code",
   "execution_count": 102,
   "metadata": {},
   "outputs": [],
   "source": [
    "questions_3D = np.zeros((7196,7,100),dtype = np.float32) "
   ]
  },
  {
   "cell_type": "code",
   "execution_count": 103,
   "metadata": {},
   "outputs": [],
   "source": [
    "for count,q in enumerate(questions):\n",
    "    questions_3D[count] = q"
   ]
  },
  {
   "cell_type": "code",
   "execution_count": 104,
   "metadata": {},
   "outputs": [
    {
     "data": {
      "text/plain": [
       "(7196, 7, 100)"
      ]
     },
     "execution_count": 104,
     "metadata": {},
     "output_type": "execute_result"
    }
   ],
   "source": [
    "questions_3D.shape"
   ]
  },
  {
   "cell_type": "code",
   "execution_count": 105,
   "metadata": {},
   "outputs": [
    {
     "data": {
      "text/plain": [
       "{'angry', 'bored', 'depressed', 'happy', 'neutral', 'relaxed', 'stressed'}"
      ]
     },
     "execution_count": 105,
     "metadata": {},
     "output_type": "execute_result"
    }
   ],
   "source": [
    "set(y)"
   ]
  },
  {
   "cell_type": "code",
   "execution_count": 106,
   "metadata": {},
   "outputs": [],
   "source": [
    "new_y = []\n",
    "for i in y:\n",
    "    if i == 'angry':\n",
    "        new_y.append([0])\n",
    "    elif i == 'bored':\n",
    "        new_y.append([1])\n",
    "    elif i == 'depressed':\n",
    "        new_y.append([2])\n",
    "    elif i == 'happy':\n",
    "        new_y.append([3])\n",
    "    elif i == 'neutral':\n",
    "        new_y.append([4])\n",
    "    elif i == 'relaxed':\n",
    "        new_y.append([5])\n",
    "    else:\n",
    "        new_y.append([6])\n",
    "y = new_y"
   ]
  },
  {
   "cell_type": "code",
   "execution_count": 107,
   "metadata": {},
   "outputs": [],
   "source": [
    "X = np.array(questions_3D)\n",
    "y = np.array(y)"
   ]
  },
  {
   "cell_type": "code",
   "execution_count": 108,
   "metadata": {},
   "outputs": [
    {
     "name": "stdout",
     "output_type": "stream",
     "text": [
      "(7196, 7, 100) (7196, 1)\n"
     ]
    }
   ],
   "source": [
    "print(X.shape, y.shape)"
   ]
  },
  {
   "cell_type": "code",
   "execution_count": 115,
   "metadata": {},
   "outputs": [],
   "source": [
    "from sklearn.model_selection import train_test_split\n",
    "X_train, X_test, y_train, y_test = train_test_split(X, y, test_size=0.3, random_state=42)"
   ]
  },
  {
   "cell_type": "code",
   "execution_count": 117,
   "metadata": {},
   "outputs": [],
   "source": [
    "from tensorflow.keras import Model\n",
    "from tensorflow.keras.layers import Dense, Flatten, Dropout, LSTM, Embedding, Input, Bidirectional, Conv1D, MaxPool1D\n",
    "from tensorflow.keras.losses import SparseCategoricalCrossentropy\n",
    "from tensorflow.keras.optimizers import RMSprop"
   ]
  },
  {
   "cell_type": "code",
   "execution_count": 118,
   "metadata": {},
   "outputs": [],
   "source": [
    "MAX_LENGTH = 7\n",
    "VEC_EMBEDDING = 100\n",
    "\n",
    "input = Input((MAX_LENGTH,VEC_EMBEDDING,))\n",
    "\n",
    "x = Conv1D(32,3,padding='same',activation='relu',input_shape=(MAX_LENGTH,VEC_EMBEDDING,))(input)\n",
    "x = MaxPool1D()(x)\n",
    "x = Bidirectional(LSTM(100, return_sequences=True))(x)\n",
    "x = Bidirectional(LSTM(100, return_sequences=False))(x)\n",
    "x = Dense(128, activation='relu')(x)\n",
    "x = Dropout(0.2)(x)\n",
    "x = Dense(128, activation='relu')(x)\n",
    "x = Dropout(0.2)(x)\n",
    "out = Dense(7, activation='softmax')(x)"
   ]
  },
  {
   "cell_type": "code",
   "execution_count": 119,
   "metadata": {},
   "outputs": [
    {
     "name": "stdout",
     "output_type": "stream",
     "text": [
      "Model: \"model_2\"\n",
      "_________________________________________________________________\n",
      "Layer (type)                 Output Shape              Param #   \n",
      "=================================================================\n",
      "input_4 (InputLayer)         [(None, 7, 100)]          0         \n",
      "_________________________________________________________________\n",
      "conv1d_13 (Conv1D)           (None, 7, 32)             9632      \n",
      "_________________________________________________________________\n",
      "max_pooling1d_1 (MaxPooling1 (None, 3, 32)             0         \n",
      "_________________________________________________________________\n",
      "bidirectional_2 (Bidirection (None, 3, 200)            106400    \n",
      "_________________________________________________________________\n",
      "bidirectional_3 (Bidirection (None, 200)               240800    \n",
      "_________________________________________________________________\n",
      "dense_17 (Dense)             (None, 128)               25728     \n",
      "_________________________________________________________________\n",
      "dropout_2 (Dropout)          (None, 128)               0         \n",
      "_________________________________________________________________\n",
      "dense_18 (Dense)             (None, 128)               16512     \n",
      "_________________________________________________________________\n",
      "dropout_3 (Dropout)          (None, 128)               0         \n",
      "_________________________________________________________________\n",
      "dense_19 (Dense)             (None, 7)                 903       \n",
      "=================================================================\n",
      "Total params: 399,975\n",
      "Trainable params: 399,975\n",
      "Non-trainable params: 0\n",
      "_________________________________________________________________\n"
     ]
    }
   ],
   "source": [
    "model = Model(input, out)\n",
    "model.summary()"
   ]
  },
  {
   "cell_type": "code",
   "execution_count": 120,
   "metadata": {},
   "outputs": [],
   "source": [
    "model.compile(\n",
    "    optimizer=RMSprop(learning_rate=0.0005, momentum=0.9),\n",
    "    loss=SparseCategoricalCrossentropy(),\n",
    "    metrics=['accuracy'])"
   ]
  },
  {
   "cell_type": "code",
   "execution_count": 121,
   "metadata": {},
   "outputs": [
    {
     "name": "stdout",
     "output_type": "stream",
     "text": [
      "Epoch 1/20\n",
      "126/126 [==============================] - 2s 15ms/step - loss: 1.1154 - accuracy: 0.4398 - val_loss: 0.9407 - val_accuracy: 0.5079\n",
      "Epoch 2/20\n",
      "126/126 [==============================] - 1s 7ms/step - loss: 0.9300 - accuracy: 0.5309 - val_loss: 0.9056 - val_accuracy: 0.5466\n",
      "Epoch 3/20\n",
      "126/126 [==============================] - 1s 7ms/step - loss: 0.8553 - accuracy: 0.6014 - val_loss: 1.0034 - val_accuracy: 0.5218\n",
      "Epoch 4/20\n",
      "126/126 [==============================] - 1s 7ms/step - loss: 0.7984 - accuracy: 0.6535 - val_loss: 0.7948 - val_accuracy: 0.6696\n",
      "Epoch 5/20\n",
      "126/126 [==============================] - 1s 7ms/step - loss: 0.7280 - accuracy: 0.7007 - val_loss: 0.8143 - val_accuracy: 0.6528\n",
      "Epoch 6/20\n",
      "126/126 [==============================] - 1s 7ms/step - loss: 0.6682 - accuracy: 0.7319 - val_loss: 0.7878 - val_accuracy: 0.6746\n",
      "Epoch 7/20\n",
      "126/126 [==============================] - 1s 7ms/step - loss: 0.6044 - accuracy: 0.7642 - val_loss: 0.8017 - val_accuracy: 0.6815\n",
      "Epoch 8/20\n",
      "126/126 [==============================] - 1s 7ms/step - loss: 0.5613 - accuracy: 0.7833 - val_loss: 0.8842 - val_accuracy: 0.6687\n",
      "Epoch 9/20\n",
      "126/126 [==============================] - 1s 7ms/step - loss: 0.5418 - accuracy: 0.7865 - val_loss: 0.8246 - val_accuracy: 0.6855\n",
      "Epoch 10/20\n",
      "126/126 [==============================] - 1s 7ms/step - loss: 0.4996 - accuracy: 0.8099 - val_loss: 0.8729 - val_accuracy: 0.7123\n",
      "Epoch 11/20\n",
      "126/126 [==============================] - 1s 7ms/step - loss: 0.4411 - accuracy: 0.8330 - val_loss: 1.0309 - val_accuracy: 0.6865\n",
      "Epoch 12/20\n",
      "126/126 [==============================] - 1s 7ms/step - loss: 0.4196 - accuracy: 0.8414 - val_loss: 1.0725 - val_accuracy: 0.6577\n",
      "Epoch 13/20\n",
      "126/126 [==============================] - 1s 7ms/step - loss: 0.4009 - accuracy: 0.8503 - val_loss: 1.0760 - val_accuracy: 0.6815\n",
      "Epoch 14/20\n",
      "126/126 [==============================] - 1s 7ms/step - loss: 0.3765 - accuracy: 0.8670 - val_loss: 1.4114 - val_accuracy: 0.6736\n",
      "Epoch 15/20\n",
      "126/126 [==============================] - 1s 7ms/step - loss: 0.3326 - accuracy: 0.8779 - val_loss: 1.5640 - val_accuracy: 0.6766\n",
      "Epoch 16/20\n",
      "126/126 [==============================] - 1s 7ms/step - loss: 0.3182 - accuracy: 0.8873 - val_loss: 1.5112 - val_accuracy: 0.6746\n",
      "Epoch 17/20\n",
      "126/126 [==============================] - 1s 7ms/step - loss: 0.2962 - accuracy: 0.8908 - val_loss: 1.7319 - val_accuracy: 0.6915\n",
      "Epoch 18/20\n",
      "126/126 [==============================] - 1s 7ms/step - loss: 0.3067 - accuracy: 0.8923 - val_loss: 1.2380 - val_accuracy: 0.6915\n",
      "Epoch 19/20\n",
      "126/126 [==============================] - 1s 7ms/step - loss: 0.2672 - accuracy: 0.9094 - val_loss: 1.9469 - val_accuracy: 0.6538\n",
      "Epoch 20/20\n",
      "126/126 [==============================] - 1s 8ms/step - loss: 0.2473 - accuracy: 0.9102 - val_loss: 2.7653 - val_accuracy: 0.6518\n"
     ]
    },
    {
     "data": {
      "text/plain": [
       "<tensorflow.python.keras.callbacks.History at 0x1ff672b0fc8>"
      ]
     },
     "execution_count": 121,
     "metadata": {},
     "output_type": "execute_result"
    }
   ],
   "source": [
    "model.fit(X_train, y_train, validation_split = 0.2, epochs=20)"
   ]
  },
  {
   "cell_type": "code",
   "execution_count": 136,
   "metadata": {},
   "outputs": [
    {
     "name": "stdout",
     "output_type": "stream",
     "text": [
      "68/68 [==============================] - 0s 2ms/step - loss: 2.9407 - accuracy: 0.6355\n"
     ]
    },
    {
     "data": {
      "text/plain": [
       "[2.9406700134277344, 0.6354793906211853]"
      ]
     },
     "execution_count": 136,
     "metadata": {},
     "output_type": "execute_result"
    }
   ],
   "source": [
    "model.evaluate(X_test,y_test)"
   ]
  },
  {
   "cell_type": "code",
   "execution_count": 142,
   "metadata": {},
   "outputs": [],
   "source": [
    "y_pred = model.predict(X_test)"
   ]
  },
  {
   "cell_type": "code",
   "execution_count": 143,
   "metadata": {},
   "outputs": [],
   "source": [
    "new_y_pred = []\n",
    "for i in range(len(y_pred)):\n",
    "    new_y_pred.append(np.argmax(y_pred[i]))"
   ]
  },
  {
   "cell_type": "code",
   "execution_count": 144,
   "metadata": {},
   "outputs": [],
   "source": [
    "y_pred = new_y_pred"
   ]
  },
  {
   "cell_type": "code",
   "execution_count": 145,
   "metadata": {},
   "outputs": [],
   "source": [
    "from sklearn.metrics import f1_score"
   ]
  },
  {
   "cell_type": "code",
   "execution_count": 146,
   "metadata": {},
   "outputs": [
    {
     "data": {
      "text/plain": [
       "0.6354793886058361"
      ]
     },
     "execution_count": 146,
     "metadata": {},
     "output_type": "execute_result"
    }
   ],
   "source": [
    "f1_score(y_test, y_pred, average='micro')"
   ]
  },
  {
   "cell_type": "code",
   "execution_count": null,
   "metadata": {},
   "outputs": [],
   "source": []
  }
 ],
 "metadata": {
  "kernelspec": {
   "display_name": "Python 3",
   "language": "python",
   "name": "python3"
  },
  "language_info": {
   "codemirror_mode": {
    "name": "ipython",
    "version": 3
   },
   "file_extension": ".py",
   "mimetype": "text/x-python",
   "name": "python",
   "nbconvert_exporter": "python",
   "pygments_lexer": "ipython3",
   "version": "3.7.6"
  }
 },
 "nbformat": 4,
 "nbformat_minor": 4
}

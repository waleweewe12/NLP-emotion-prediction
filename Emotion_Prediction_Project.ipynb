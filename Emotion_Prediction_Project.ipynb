{
 "cells": [
  {
   "cell_type": "code",
   "execution_count": 1,
   "metadata": {},
   "outputs": [],
   "source": [
    "import pandas as pd\n",
    "df = pd.read_pickle(r'data.pickle')"
   ]
  },
  {
   "cell_type": "code",
   "execution_count": 2,
   "metadata": {},
   "outputs": [
    {
     "data": {
      "text/html": [
       "<div>\n",
       "<style scoped>\n",
       "    .dataframe tbody tr th:only-of-type {\n",
       "        vertical-align: middle;\n",
       "    }\n",
       "\n",
       "    .dataframe tbody tr th {\n",
       "        vertical-align: top;\n",
       "    }\n",
       "\n",
       "    .dataframe thead th {\n",
       "        text-align: right;\n",
       "    }\n",
       "</style>\n",
       "<table border=\"1\" class=\"dataframe\">\n",
       "  <thead>\n",
       "    <tr style=\"text-align: right;\">\n",
       "      <th></th>\n",
       "      <th>id</th>\n",
       "      <th>question</th>\n",
       "      <th>answer</th>\n",
       "      <th>labeller</th>\n",
       "      <th>emo_class</th>\n",
       "      <th>seven_emo</th>\n",
       "      <th>intent</th>\n",
       "      <th>topic</th>\n",
       "      <th>keyword_vec</th>\n",
       "      <th>similarity</th>\n",
       "      <th>reviewed</th>\n",
       "      <th>created_at</th>\n",
       "      <th>updated_at</th>\n",
       "      <th>url</th>\n",
       "    </tr>\n",
       "  </thead>\n",
       "  <tbody>\n",
       "    <tr>\n",
       "      <th>0</th>\n",
       "      <td>1</td>\n",
       "      <td>ชิว</td>\n",
       "      <td>ก็ดีแล้ว นอนชิว นั่งชิว ขนาดกินยังชิว :)</td>\n",
       "      <td>None</td>\n",
       "      <td>pos_de</td>\n",
       "      <td>relaxed</td>\n",
       "      <td>chitchat</td>\n",
       "      <td>general</td>\n",
       "      <td>0.6564798951148987,-1.8736761808395386,0.49881...</td>\n",
       "      <td>1.0</td>\n",
       "      <td>True</td>\n",
       "      <td>2019-06-03T13:52:59.000+07:00</td>\n",
       "      <td>2019-08-04T08:03:10.000+07:00</td>\n",
       "      <td>http://chitchat.tunejai.com/chats/1.json</td>\n",
       "    </tr>\n",
       "    <tr>\n",
       "      <th>1</th>\n",
       "      <td>2</td>\n",
       "      <td>ไม่นอนในเวลางานสิ</td>\n",
       "      <td>ของีบนิดนึงไม่ได้หรอ</td>\n",
       "      <td>None</td>\n",
       "      <td>neu</td>\n",
       "      <td>neutral</td>\n",
       "      <td>chitchat</td>\n",
       "      <td>general</td>\n",
       "      <td>0.5782301053404808,0.3987545693914096,0.271282...</td>\n",
       "      <td>1.0</td>\n",
       "      <td>True</td>\n",
       "      <td>2019-06-03T13:52:59.000+07:00</td>\n",
       "      <td>2019-08-04T08:04:00.000+07:00</td>\n",
       "      <td>http://chitchat.tunejai.com/chats/2.json</td>\n",
       "    </tr>\n",
       "    <tr>\n",
       "      <th>2</th>\n",
       "      <td>3</td>\n",
       "      <td>อืมา</td>\n",
       "      <td>🙂</td>\n",
       "      <td>None</td>\n",
       "      <td>neu</td>\n",
       "      <td>neutral</td>\n",
       "      <td>chitchat</td>\n",
       "      <td>general</td>\n",
       "      <td>0.0,0.0,0.0,0.0,0.0,0.0,0.0,0.0,0.0,0.0,0.0,0....</td>\n",
       "      <td>1.0</td>\n",
       "      <td>True</td>\n",
       "      <td>2019-06-03T13:52:59.000+07:00</td>\n",
       "      <td>2019-08-04T08:04:23.000+07:00</td>\n",
       "      <td>http://chitchat.tunejai.com/chats/3.json</td>\n",
       "    </tr>\n",
       "    <tr>\n",
       "      <th>3</th>\n",
       "      <td>4</td>\n",
       "      <td>หยิบยังไงอะ</td>\n",
       "      <td>เอามือหยิบสิ</td>\n",
       "      <td>None</td>\n",
       "      <td>neu</td>\n",
       "      <td>neutral</td>\n",
       "      <td>chitchat</td>\n",
       "      <td>general</td>\n",
       "      <td>0.038666918873786926,-0.18005990283563733,-0.1...</td>\n",
       "      <td>1.0</td>\n",
       "      <td>True</td>\n",
       "      <td>2019-06-03T13:52:59.000+07:00</td>\n",
       "      <td>2019-08-04T08:04:50.000+07:00</td>\n",
       "      <td>http://chitchat.tunejai.com/chats/4.json</td>\n",
       "    </tr>\n",
       "    <tr>\n",
       "      <th>4</th>\n",
       "      <td>5</td>\n",
       "      <td>ระหว่าง sumsung กับ iphone ใช้อะไรดี</td>\n",
       "      <td>เธอว่าไงก็ว่างั้นละ มันแล้วแต่คนชอบ</td>\n",
       "      <td>None</td>\n",
       "      <td>neu</td>\n",
       "      <td>neutral</td>\n",
       "      <td>question</td>\n",
       "      <td>general</td>\n",
       "      <td>0.3020523651079698,0.10027491030367938,-0.2324...</td>\n",
       "      <td>1.0</td>\n",
       "      <td>True</td>\n",
       "      <td>2019-06-03T13:52:59.000+07:00</td>\n",
       "      <td>2019-08-04T08:05:24.000+07:00</td>\n",
       "      <td>http://chitchat.tunejai.com/chats/5.json</td>\n",
       "    </tr>\n",
       "  </tbody>\n",
       "</table>\n",
       "</div>"
      ],
      "text/plain": [
       "   id                              question  \\\n",
       "0   1                                   ชิว   \n",
       "1   2                     ไม่นอนในเวลางานสิ   \n",
       "2   3                                  อืมา   \n",
       "3   4                           หยิบยังไงอะ   \n",
       "4   5  ระหว่าง sumsung กับ iphone ใช้อะไรดี   \n",
       "\n",
       "                                     answer labeller emo_class seven_emo  \\\n",
       "0  ก็ดีแล้ว นอนชิว นั่งชิว ขนาดกินยังชิว :)     None    pos_de   relaxed   \n",
       "1                      ของีบนิดนึงไม่ได้หรอ     None       neu   neutral   \n",
       "2                                         🙂     None       neu   neutral   \n",
       "3                              เอามือหยิบสิ     None       neu   neutral   \n",
       "4      เธอว่าไงก็ว่างั้นละ มันแล้วแต่คนชอบ      None       neu   neutral   \n",
       "\n",
       "     intent    topic                                        keyword_vec  \\\n",
       "0  chitchat  general  0.6564798951148987,-1.8736761808395386,0.49881...   \n",
       "1  chitchat  general  0.5782301053404808,0.3987545693914096,0.271282...   \n",
       "2  chitchat  general  0.0,0.0,0.0,0.0,0.0,0.0,0.0,0.0,0.0,0.0,0.0,0....   \n",
       "3  chitchat  general  0.038666918873786926,-0.18005990283563733,-0.1...   \n",
       "4  question  general  0.3020523651079698,0.10027491030367938,-0.2324...   \n",
       "\n",
       "   similarity  reviewed                     created_at  \\\n",
       "0         1.0      True  2019-06-03T13:52:59.000+07:00   \n",
       "1         1.0      True  2019-06-03T13:52:59.000+07:00   \n",
       "2         1.0      True  2019-06-03T13:52:59.000+07:00   \n",
       "3         1.0      True  2019-06-03T13:52:59.000+07:00   \n",
       "4         1.0      True  2019-06-03T13:52:59.000+07:00   \n",
       "\n",
       "                      updated_at                                       url  \n",
       "0  2019-08-04T08:03:10.000+07:00  http://chitchat.tunejai.com/chats/1.json  \n",
       "1  2019-08-04T08:04:00.000+07:00  http://chitchat.tunejai.com/chats/2.json  \n",
       "2  2019-08-04T08:04:23.000+07:00  http://chitchat.tunejai.com/chats/3.json  \n",
       "3  2019-08-04T08:04:50.000+07:00  http://chitchat.tunejai.com/chats/4.json  \n",
       "4  2019-08-04T08:05:24.000+07:00  http://chitchat.tunejai.com/chats/5.json  "
      ]
     },
     "execution_count": 2,
     "metadata": {},
     "output_type": "execute_result"
    }
   ],
   "source": [
    "df = pd.DataFrame(df)\n",
    "df.head()"
   ]
  },
  {
   "cell_type": "code",
   "execution_count": 3,
   "metadata": {},
   "outputs": [
    {
     "name": "stdout",
     "output_type": "stream",
     "text": [
      "<class 'pandas.core.frame.DataFrame'>\n",
      "RangeIndex: 26853 entries, 0 to 26852\n",
      "Data columns (total 14 columns):\n",
      " #   Column       Non-Null Count  Dtype  \n",
      "---  ------       --------------  -----  \n",
      " 0   id           26853 non-null  int64  \n",
      " 1   question     26853 non-null  object \n",
      " 2   answer       26853 non-null  object \n",
      " 3   labeller     0 non-null      object \n",
      " 4   emo_class    26827 non-null  object \n",
      " 5   seven_emo    26779 non-null  object \n",
      " 6   intent       26848 non-null  object \n",
      " 7   topic        26791 non-null  object \n",
      " 8   keyword_vec  26853 non-null  object \n",
      " 9   similarity   26853 non-null  float64\n",
      " 10  reviewed     26853 non-null  bool   \n",
      " 11  created_at   26853 non-null  object \n",
      " 12  updated_at   26853 non-null  object \n",
      " 13  url          26853 non-null  object \n",
      "dtypes: bool(1), float64(1), int64(1), object(11)\n",
      "memory usage: 2.7+ MB\n"
     ]
    }
   ],
   "source": [
    "df.info()"
   ]
  },
  {
   "cell_type": "code",
   "execution_count": 4,
   "metadata": {},
   "outputs": [
    {
     "data": {
      "text/plain": [
       "{None,\n",
       " 'angry',\n",
       " 'bored',\n",
       " 'depressed',\n",
       " 'happy',\n",
       " 'neutral',\n",
       " 'relaxed',\n",
       " 'stressed'}"
      ]
     },
     "execution_count": 4,
     "metadata": {},
     "output_type": "execute_result"
    }
   ],
   "source": [
    "set(df['seven_emo'])"
   ]
  },
  {
   "cell_type": "code",
   "execution_count": 5,
   "metadata": {},
   "outputs": [],
   "source": [
    "\"\"\"\n",
    "features = df['question']\n",
    "label = df['seven_emo']\n",
    "\"\"\"\n",
    "features_and_label = df[['question','seven_emo']]"
   ]
  },
  {
   "cell_type": "code",
   "execution_count": 6,
   "metadata": {},
   "outputs": [
    {
     "data": {
      "text/html": [
       "<div>\n",
       "<style scoped>\n",
       "    .dataframe tbody tr th:only-of-type {\n",
       "        vertical-align: middle;\n",
       "    }\n",
       "\n",
       "    .dataframe tbody tr th {\n",
       "        vertical-align: top;\n",
       "    }\n",
       "\n",
       "    .dataframe thead th {\n",
       "        text-align: right;\n",
       "    }\n",
       "</style>\n",
       "<table border=\"1\" class=\"dataframe\">\n",
       "  <thead>\n",
       "    <tr style=\"text-align: right;\">\n",
       "      <th></th>\n",
       "      <th>question</th>\n",
       "      <th>seven_emo</th>\n",
       "    </tr>\n",
       "  </thead>\n",
       "  <tbody>\n",
       "    <tr>\n",
       "      <th>0</th>\n",
       "      <td>ชิว</td>\n",
       "      <td>relaxed</td>\n",
       "    </tr>\n",
       "    <tr>\n",
       "      <th>1</th>\n",
       "      <td>ไม่นอนในเวลางานสิ</td>\n",
       "      <td>neutral</td>\n",
       "    </tr>\n",
       "    <tr>\n",
       "      <th>2</th>\n",
       "      <td>อืมา</td>\n",
       "      <td>neutral</td>\n",
       "    </tr>\n",
       "    <tr>\n",
       "      <th>3</th>\n",
       "      <td>หยิบยังไงอะ</td>\n",
       "      <td>neutral</td>\n",
       "    </tr>\n",
       "    <tr>\n",
       "      <th>4</th>\n",
       "      <td>ระหว่าง sumsung กับ iphone ใช้อะไรดี</td>\n",
       "      <td>neutral</td>\n",
       "    </tr>\n",
       "    <tr>\n",
       "      <th>...</th>\n",
       "      <td>...</td>\n",
       "      <td>...</td>\n",
       "    </tr>\n",
       "    <tr>\n",
       "      <th>26848</th>\n",
       "      <td>ไม่ หมายถึงจับใจน่ะไปนอน</td>\n",
       "      <td>neutral</td>\n",
       "    </tr>\n",
       "    <tr>\n",
       "      <th>26849</th>\n",
       "      <td>วันนี้เด๋อนะ</td>\n",
       "      <td>neutral</td>\n",
       "    </tr>\n",
       "    <tr>\n",
       "      <th>26850</th>\n",
       "      <td>แยกย้ายนะ บาย</td>\n",
       "      <td>neutral</td>\n",
       "    </tr>\n",
       "    <tr>\n",
       "      <th>26851</th>\n",
       "      <td>เราโง่ขนาดนั้นเลยหรอ</td>\n",
       "      <td>depressed</td>\n",
       "    </tr>\n",
       "    <tr>\n",
       "      <th>26852</th>\n",
       "      <td>ใช่บอทน้อยรึป่าว</td>\n",
       "      <td>neutral</td>\n",
       "    </tr>\n",
       "  </tbody>\n",
       "</table>\n",
       "<p>26853 rows × 2 columns</p>\n",
       "</div>"
      ],
      "text/plain": [
       "                                   question  seven_emo\n",
       "0                                       ชิว    relaxed\n",
       "1                         ไม่นอนในเวลางานสิ    neutral\n",
       "2                                      อืมา    neutral\n",
       "3                               หยิบยังไงอะ    neutral\n",
       "4      ระหว่าง sumsung กับ iphone ใช้อะไรดี    neutral\n",
       "...                                     ...        ...\n",
       "26848              ไม่ หมายถึงจับใจน่ะไปนอน    neutral\n",
       "26849                          วันนี้เด๋อนะ    neutral\n",
       "26850                         แยกย้ายนะ บาย    neutral\n",
       "26851                  เราโง่ขนาดนั้นเลยหรอ  depressed\n",
       "26852                      ใช่บอทน้อยรึป่าว    neutral\n",
       "\n",
       "[26853 rows x 2 columns]"
      ]
     },
     "execution_count": 6,
     "metadata": {},
     "output_type": "execute_result"
    }
   ],
   "source": [
    "features_and_label"
   ]
  },
  {
   "cell_type": "code",
   "execution_count": 7,
   "metadata": {},
   "outputs": [],
   "source": [
    "#ค่า label ที่เป็น None ตัดทิ้งไปได้เลย ต่อให้มี question แต่ไม่รู้เฉลยก็ไร้ประโยชน์\n",
    "features_and_label = features_and_label.dropna()"
   ]
  },
  {
   "cell_type": "code",
   "execution_count": 8,
   "metadata": {},
   "outputs": [],
   "source": [
    "\"\"\"\n",
    "จากโค้ดในไฟล์ \"Sentiment_Analysis_MachineLearning.pynb\" ที่เราเรียกดูกราฟแล้วพบว่าความรู้สึกที่น้อยที่สุดมีอยู่ 1028 ่ตัว \n",
    "ดังนั้นเรา sampling ทุกความรู้สึกให้เหลือ 1028 ตัว \n",
    "\"\"\"\n",
    "angry = features_and_label.loc[features_and_label['seven_emo']=='angry'].sample(1028)\n",
    "bored = features_and_label.loc[features_and_label['seven_emo']=='bored'].sample(1028)\n",
    "depressed = features_and_label.loc[features_and_label['seven_emo']=='depressed'].sample(1028)\n",
    "happy = features_and_label.loc[features_and_label['seven_emo']=='happy'].sample(1028)\n",
    "neutral = features_and_label.loc[features_and_label['seven_emo']=='neutral'].sample(1028)\n",
    "relaxed = features_and_label.loc[features_and_label['seven_emo']=='relaxed'].sample(1028)\n",
    "stressed = features_and_label.loc[features_and_label['seven_emo']=='stressed'].sample(1028)\n",
    "\n",
    "features_and_label = angry\n",
    "features_and_label = features_and_label.append(bored)\n",
    "features_and_label = features_and_label.append(depressed)\n",
    "features_and_label = features_and_label.append(happy)\n",
    "features_and_label = features_and_label.append(neutral)\n",
    "features_and_label = features_and_label.append(relaxed)\n",
    "features_and_label = features_and_label.append(stressed)"
   ]
  },
  {
   "cell_type": "code",
   "execution_count": 9,
   "metadata": {},
   "outputs": [
    {
     "data": {
      "text/html": [
       "<div>\n",
       "<style scoped>\n",
       "    .dataframe tbody tr th:only-of-type {\n",
       "        vertical-align: middle;\n",
       "    }\n",
       "\n",
       "    .dataframe tbody tr th {\n",
       "        vertical-align: top;\n",
       "    }\n",
       "\n",
       "    .dataframe thead th {\n",
       "        text-align: right;\n",
       "    }\n",
       "</style>\n",
       "<table border=\"1\" class=\"dataframe\">\n",
       "  <thead>\n",
       "    <tr style=\"text-align: right;\">\n",
       "      <th></th>\n",
       "      <th>question</th>\n",
       "      <th>seven_emo</th>\n",
       "    </tr>\n",
       "  </thead>\n",
       "  <tbody>\n",
       "    <tr>\n",
       "      <th>3677</th>\n",
       "      <td>เราไม่มีสิทธิ์ไม่ชอบสิ่งที่พ่อแม่ทำหรอ</td>\n",
       "      <td>angry</td>\n",
       "    </tr>\n",
       "    <tr>\n",
       "      <th>5100</th>\n",
       "      <td>ทะเลาะกับคนข้างบ้าน</td>\n",
       "      <td>angry</td>\n",
       "    </tr>\n",
       "    <tr>\n",
       "      <th>20489</th>\n",
       "      <td>ไม่ต้อง</td>\n",
       "      <td>angry</td>\n",
       "    </tr>\n",
       "    <tr>\n",
       "      <th>25744</th>\n",
       "      <td>เคควยไร</td>\n",
       "      <td>angry</td>\n",
       "    </tr>\n",
       "    <tr>\n",
       "      <th>596</th>\n",
       "      <td>หงุดหงิด</td>\n",
       "      <td>angry</td>\n",
       "    </tr>\n",
       "    <tr>\n",
       "      <th>...</th>\n",
       "      <td>...</td>\n",
       "      <td>...</td>\n",
       "    </tr>\n",
       "    <tr>\n",
       "      <th>10741</th>\n",
       "      <td>ลงทะเบียนเรียนไม่ทัน</td>\n",
       "      <td>stressed</td>\n",
       "    </tr>\n",
       "    <tr>\n",
       "      <th>5115</th>\n",
       "      <td>ไม่มีสมาธิทำงานเลย</td>\n",
       "      <td>stressed</td>\n",
       "    </tr>\n",
       "    <tr>\n",
       "      <th>23634</th>\n",
       "      <td>เกลียดไง</td>\n",
       "      <td>stressed</td>\n",
       "    </tr>\n",
       "    <tr>\n",
       "      <th>5013</th>\n",
       "      <td>ไปต่างประเทศครั้งแรกกลัวใช้ชีวิตไม่ได้อ่ะ</td>\n",
       "      <td>stressed</td>\n",
       "    </tr>\n",
       "    <tr>\n",
       "      <th>25028</th>\n",
       "      <td>เราเหมือนว่าไม่ โอเคกับ ชีวิตเราเลย</td>\n",
       "      <td>stressed</td>\n",
       "    </tr>\n",
       "  </tbody>\n",
       "</table>\n",
       "<p>7196 rows × 2 columns</p>\n",
       "</div>"
      ],
      "text/plain": [
       "                                        question seven_emo\n",
       "3677      เราไม่มีสิทธิ์ไม่ชอบสิ่งที่พ่อแม่ทำหรอ     angry\n",
       "5100                         ทะเลาะกับคนข้างบ้าน     angry\n",
       "20489                                    ไม่ต้อง     angry\n",
       "25744                                    เคควยไร     angry\n",
       "596                                     หงุดหงิด     angry\n",
       "...                                          ...       ...\n",
       "10741                       ลงทะเบียนเรียนไม่ทัน  stressed\n",
       "5115                          ไม่มีสมาธิทำงานเลย  stressed\n",
       "23634                                   เกลียดไง  stressed\n",
       "5013   ไปต่างประเทศครั้งแรกกลัวใช้ชีวิตไม่ได้อ่ะ  stressed\n",
       "25028        เราเหมือนว่าไม่ โอเคกับ ชีวิตเราเลย  stressed\n",
       "\n",
       "[7196 rows x 2 columns]"
      ]
     },
     "execution_count": 9,
     "metadata": {},
     "output_type": "execute_result"
    }
   ],
   "source": [
    "features_and_label"
   ]
  },
  {
   "cell_type": "code",
   "execution_count": 10,
   "metadata": {},
   "outputs": [],
   "source": [
    "X = features_and_label['question']\n",
    "y = features_and_label['seven_emo']"
   ]
  },
  {
   "cell_type": "code",
   "execution_count": 13,
   "metadata": {},
   "outputs": [],
   "source": [
    "import deepcut"
   ]
  },
  {
   "cell_type": "code",
   "execution_count": 14,
   "metadata": {},
   "outputs": [],
   "source": [
    "#ตัดคำด้วย deepcut\n",
    "\n",
    "tokenized_text = []\n",
    "\n",
    "for text in X:\n",
    "    tokenize = deepcut.tokenize(text)\n",
    "    tokenized_text.append(tokenize)"
   ]
  },
  {
   "cell_type": "code",
   "execution_count": 15,
   "metadata": {},
   "outputs": [
    {
     "data": {
      "text/plain": [
       "['ทะเลาะ', 'กับ', 'คน', 'ข้าง', 'บ้าน']"
      ]
     },
     "execution_count": 15,
     "metadata": {},
     "output_type": "execute_result"
    }
   ],
   "source": [
    "tokenized_text[1]"
   ]
  },
  {
   "cell_type": "code",
   "execution_count": 16,
   "metadata": {},
   "outputs": [
    {
     "name": "stdout",
     "output_type": "stream",
     "text": [
      "6.840327959977765\n"
     ]
    }
   ],
   "source": [
    "sum = 0\n",
    "for t in tokenized_text:\n",
    "    sum = sum + len(t)\n",
    "print(sum / len(tokenized_text))"
   ]
  },
  {
   "cell_type": "markdown",
   "metadata": {},
   "source": [
    "ความยาวเฉลี่ยของคำแต่ละ questions อยู่ที่ประมาณ 7 คำ"
   ]
  },
  {
   "cell_type": "code",
   "execution_count": null,
   "metadata": {},
   "outputs": [],
   "source": [
    "#กลับมาที่ตัว tokenized_text ถ้าตัวไหนยากเกิน 7 เราจะตัดทิ้งให้เหลือ 7 แต่ถ้าตัวไหนยาวไม่ถึง เราจะเติมช่องว่าง (' ') เข้าไปแทน\n",
    "for t in tokenized_text:\n",
    "    if(len(t) < 7):\n",
    "        for i in range(7-len(t)):\n",
    "            t.append(' ')\n",
    "    else:\n",
    "        for i in range(len(t)-7):\n",
    "            t.pop()"
   ]
  },
  {
   "cell_type": "code",
   "execution_count": null,
   "metadata": {},
   "outputs": [],
   "source": [
    "tokenized_text[0]"
   ]
  },
  {
   "cell_type": "code",
   "execution_count": 20,
   "metadata": {},
   "outputs": [],
   "source": [
    "import fasttext"
   ]
  },
  {
   "cell_type": "code",
   "execution_count": 21,
   "metadata": {},
   "outputs": [
    {
     "name": "stderr",
     "output_type": "stream",
     "text": [
      "Warning : `load_model` does not return WordVectorModel or SupervisedModel any more, but a `FastText` object which is very similar.\n",
      "Warning : `load_model` does not return WordVectorModel or SupervisedModel any more, but a `FastText` object which is very similar.\n",
      "Warning : `load_model` does not return WordVectorModel or SupervisedModel any more, but a `FastText` object which is very similar.\n"
     ]
    }
   ],
   "source": [
    "\"\"\"\n",
    "Notes : วิธีการสร้าง model และ save model ด้วย fasttext ดูได้ที่ไฟล์ Make_fasttext_model.ipynb\n",
    "\"\"\"\n",
    "#โหลด word embedding ที่ทำด้วย fasttext มาใช้\n",
    "fasttext_model_positive = fasttext.load_model(\"model_positive.bin\")\n",
    "fasttext_model_negative = fasttext.load_model(\"model_negative.bin\")\n",
    "fasttext_model_all = fasttext.load_model(\"model_all.bin\")"
   ]
  },
  {
   "cell_type": "code",
   "execution_count": 22,
   "metadata": {},
   "outputs": [
    {
     "name": "stdout",
     "output_type": "stream",
     "text": [
      "99177\n"
     ]
    }
   ],
   "source": [
    "print(len(fasttext_model_all.words))"
   ]
  },
  {
   "cell_type": "code",
   "execution_count": 25,
   "metadata": {},
   "outputs": [],
   "source": [
    "import numpy as np\n",
    "y = np.array(y)"
   ]
  },
  {
   "cell_type": "code",
   "execution_count": 26,
   "metadata": {},
   "outputs": [],
   "source": [
    "questions = []\n",
    "\n",
    "\"\"\"\n",
    "ความรู้สึก 'angry','bored','depressed','stressed' เราจะ embedding ด้วย model_negative\n",
    "ความรู้สึก 'happy','relaxed' เราะจะ embedding ด้วย model_positive\n",
    "ความรู้สึก neutral เราจะ embedding ด้วย model_all\n",
    "\"\"\"\n",
    "\n",
    "for t in range(len(tokenized_text)):\n",
    "    question = []\n",
    "    for word in tokenized_text[t]:\n",
    "        if y[t] == 'angry' or y[t] == 'bored' or y[t] == 'depressed' or y[t] == 'stressed':   \n",
    "            vec = fasttext_model_negative.get_word_vector(word)\n",
    "        elif y[t] == 'happy' or y[t] == 'relaxed':\n",
    "            vec = fasttext_model_positive.get_word_vector(word)\n",
    "        else:\n",
    "            vec = fasttext_model_all.get_word_vector(word)\n",
    "        question.append(vec)\n",
    "    questions.append(np.array(question))"
   ]
  },
  {
   "cell_type": "code",
   "execution_count": 27,
   "metadata": {},
   "outputs": [
    {
     "data": {
      "text/plain": [
       "(7, 100)"
      ]
     },
     "execution_count": 27,
     "metadata": {},
     "output_type": "execute_result"
    }
   ],
   "source": [
    "questions[0].shape"
   ]
  },
  {
   "cell_type": "code",
   "execution_count": 28,
   "metadata": {},
   "outputs": [],
   "source": [
    "questions_3D = np.zeros((7196,7,100),dtype = np.float32) "
   ]
  },
  {
   "cell_type": "code",
   "execution_count": 29,
   "metadata": {},
   "outputs": [],
   "source": [
    "for count,q in enumerate(questions):\n",
    "    questions_3D[count] = q"
   ]
  },
  {
   "cell_type": "code",
   "execution_count": 30,
   "metadata": {},
   "outputs": [
    {
     "data": {
      "text/plain": [
       "(7196, 7, 100)"
      ]
     },
     "execution_count": 30,
     "metadata": {},
     "output_type": "execute_result"
    }
   ],
   "source": [
    "questions_3D.shape"
   ]
  },
  {
   "cell_type": "code",
   "execution_count": 31,
   "metadata": {},
   "outputs": [
    {
     "data": {
      "text/plain": [
       "{'angry', 'bored', 'depressed', 'happy', 'neutral', 'relaxed', 'stressed'}"
      ]
     },
     "execution_count": 31,
     "metadata": {},
     "output_type": "execute_result"
    }
   ],
   "source": [
    "set(y)"
   ]
  },
  {
   "cell_type": "code",
   "execution_count": 32,
   "metadata": {},
   "outputs": [],
   "source": [
    "#ทำการสร้าง label ของ y ใหม่โดยการแปลงเป็นตัวเลขให้สามารถนำไปใส่ใน model ได้\n",
    "\n",
    "new_y = []\n",
    "for i in y:\n",
    "    if i == 'angry':\n",
    "        new_y.append([0])\n",
    "    elif i == 'bored':\n",
    "        new_y.append([1])\n",
    "    elif i == 'depressed':\n",
    "        new_y.append([2])\n",
    "    elif i == 'happy':\n",
    "        new_y.append([3])\n",
    "    elif i == 'neutral':\n",
    "        new_y.append([4])\n",
    "    elif i == 'relaxed':\n",
    "        new_y.append([5])\n",
    "    else:\n",
    "        new_y.append([6])\n",
    "y = new_y"
   ]
  },
  {
   "cell_type": "code",
   "execution_count": 33,
   "metadata": {},
   "outputs": [],
   "source": [
    "X = np.array(questions_3D)\n",
    "y = np.array(y)"
   ]
  },
  {
   "cell_type": "code",
   "execution_count": 34,
   "metadata": {},
   "outputs": [
    {
     "name": "stdout",
     "output_type": "stream",
     "text": [
      "(7196, 7, 100) (7196, 1)\n"
     ]
    }
   ],
   "source": [
    "print(X.shape, y.shape)"
   ]
  },
  {
   "cell_type": "code",
   "execution_count": 35,
   "metadata": {},
   "outputs": [],
   "source": [
    "#แบ่งข้อมูลออกเป็น train = 70%,test = 30% \n",
    "\n",
    "from sklearn.model_selection import train_test_split\n",
    "X_train, X_test, y_train, y_test = train_test_split(X, y, test_size=0.3, random_state=42)"
   ]
  },
  {
   "cell_type": "code",
   "execution_count": 36,
   "metadata": {},
   "outputs": [],
   "source": [
    "from tensorflow.keras import Model\n",
    "from tensorflow.keras.layers import Dense, Flatten, Dropout, LSTM, Embedding, Input, Bidirectional, Conv1D, MaxPool1D\n",
    "from tensorflow.keras.losses import SparseCategoricalCrossentropy\n",
    "from tensorflow.keras.optimizers import RMSprop"
   ]
  },
  {
   "cell_type": "code",
   "execution_count": 37,
   "metadata": {},
   "outputs": [],
   "source": [
    "MAX_LENGTH = 7\n",
    "VEC_EMBEDDING = 100\n",
    "\n",
    "input = Input((MAX_LENGTH,VEC_EMBEDDING,))\n",
    "\n",
    "#layer ณ ที่นี้ สามารถเพิ่ม - ลด ได้ตามความเหมาะสม หากผู้ใดสนใจจะลองปรับปรุงก็สามารถลองทำได้\n",
    "\n",
    "x = Conv1D(32,3,padding='same',activation='relu',input_shape=(MAX_LENGTH,VEC_EMBEDDING,))(input)\n",
    "x = MaxPool1D()(x)\n",
    "x = Bidirectional(LSTM(100, return_sequences=True))(x)\n",
    "x = Bidirectional(LSTM(100, return_sequences=False))(x)\n",
    "x = Dense(128, activation='relu')(x)\n",
    "x = Dropout(0.2)(x)\n",
    "x = Dense(128, activation='relu')(x)\n",
    "x = Dropout(0.2)(x)\n",
    "out = Dense(7, activation='softmax')(x)"
   ]
  },
  {
   "cell_type": "code",
   "execution_count": 38,
   "metadata": {},
   "outputs": [
    {
     "name": "stdout",
     "output_type": "stream",
     "text": [
      "Model: \"functional_3\"\n",
      "_________________________________________________________________\n",
      "Layer (type)                 Output Shape              Param #   \n",
      "=================================================================\n",
      "input_3 (InputLayer)         [(None, 7, 100)]          0         \n",
      "_________________________________________________________________\n",
      "conv1d_12 (Conv1D)           (None, 7, 32)             9632      \n",
      "_________________________________________________________________\n",
      "max_pooling1d (MaxPooling1D) (None, 3, 32)             0         \n",
      "_________________________________________________________________\n",
      "bidirectional (Bidirectional (None, 3, 200)            106400    \n",
      "_________________________________________________________________\n",
      "bidirectional_1 (Bidirection (None, 200)               240800    \n",
      "_________________________________________________________________\n",
      "dense_14 (Dense)             (None, 128)               25728     \n",
      "_________________________________________________________________\n",
      "dropout (Dropout)            (None, 128)               0         \n",
      "_________________________________________________________________\n",
      "dense_15 (Dense)             (None, 128)               16512     \n",
      "_________________________________________________________________\n",
      "dropout_1 (Dropout)          (None, 128)               0         \n",
      "_________________________________________________________________\n",
      "dense_16 (Dense)             (None, 7)                 903       \n",
      "=================================================================\n",
      "Total params: 399,975\n",
      "Trainable params: 399,975\n",
      "Non-trainable params: 0\n",
      "_________________________________________________________________\n"
     ]
    }
   ],
   "source": [
    "model = Model(input, out)\n",
    "model.summary()"
   ]
  },
  {
   "cell_type": "code",
   "execution_count": 39,
   "metadata": {},
   "outputs": [],
   "source": [
    "model.compile(\n",
    "    optimizer=RMSprop(learning_rate=0.0005, momentum=0.9),\n",
    "    loss=SparseCategoricalCrossentropy(),\n",
    "    metrics=['accuracy'])"
   ]
  },
  {
   "cell_type": "code",
   "execution_count": 40,
   "metadata": {},
   "outputs": [
    {
     "name": "stdout",
     "output_type": "stream",
     "text": [
      "Epoch 1/20\n",
      "126/126 [==============================] - 2s 16ms/step - loss: 1.1133 - accuracy: 0.4324 - val_loss: 0.9783 - val_accuracy: 0.5139\n",
      "Epoch 2/20\n",
      "126/126 [==============================] - 1s 8ms/step - loss: 0.9515 - accuracy: 0.5215 - val_loss: 0.9579 - val_accuracy: 0.4881\n",
      "Epoch 3/20\n",
      "126/126 [==============================] - 1s 7ms/step - loss: 0.8741 - accuracy: 0.5786 - val_loss: 0.8449 - val_accuracy: 0.6161\n",
      "Epoch 4/20\n",
      "126/126 [==============================] - 1s 8ms/step - loss: 0.8439 - accuracy: 0.6056 - val_loss: 0.7915 - val_accuracy: 0.6270\n",
      "Epoch 5/20\n",
      "126/126 [==============================] - 1s 8ms/step - loss: 0.7917 - accuracy: 0.6503 - val_loss: 0.7832 - val_accuracy: 0.6458\n",
      "Epoch 6/20\n",
      "126/126 [==============================] - 1s 8ms/step - loss: 0.7516 - accuracy: 0.6672 - val_loss: 0.8196 - val_accuracy: 0.6389\n",
      "Epoch 7/20\n",
      "126/126 [==============================] - 1s 8ms/step - loss: 0.6993 - accuracy: 0.6952 - val_loss: 0.8286 - val_accuracy: 0.6558\n",
      "Epoch 8/20\n",
      "126/126 [==============================] - 1s 8ms/step - loss: 0.6687 - accuracy: 0.7113 - val_loss: 0.8085 - val_accuracy: 0.6756\n",
      "Epoch 9/20\n",
      "126/126 [==============================] - 1s 7ms/step - loss: 0.6335 - accuracy: 0.7404 - val_loss: 0.8611 - val_accuracy: 0.6687\n",
      "Epoch 10/20\n",
      "126/126 [==============================] - 1s 7ms/step - loss: 0.5723 - accuracy: 0.7560 - val_loss: 0.9693 - val_accuracy: 0.6488\n",
      "Epoch 11/20\n",
      "126/126 [==============================] - 1s 7ms/step - loss: 0.5504 - accuracy: 0.7759 - val_loss: 0.9816 - val_accuracy: 0.6835\n",
      "Epoch 12/20\n",
      "126/126 [==============================] - 1s 7ms/step - loss: 0.5071 - accuracy: 0.7945 - val_loss: 1.1705 - val_accuracy: 0.6786\n",
      "Epoch 13/20\n",
      "126/126 [==============================] - 1s 7ms/step - loss: 0.4928 - accuracy: 0.8071 - val_loss: 1.0614 - val_accuracy: 0.6696\n",
      "Epoch 14/20\n",
      "126/126 [==============================] - 1s 7ms/step - loss: 0.4538 - accuracy: 0.8220 - val_loss: 1.3305 - val_accuracy: 0.6756\n",
      "Epoch 15/20\n",
      "126/126 [==============================] - 1s 7ms/step - loss: 0.4456 - accuracy: 0.8198 - val_loss: 1.4976 - val_accuracy: 0.6756\n",
      "Epoch 16/20\n",
      "126/126 [==============================] - 1s 7ms/step - loss: 0.4115 - accuracy: 0.8377 - val_loss: 1.3164 - val_accuracy: 0.6726\n",
      "Epoch 17/20\n",
      "126/126 [==============================] - 1s 7ms/step - loss: 0.3834 - accuracy: 0.8471 - val_loss: 1.3664 - val_accuracy: 0.6647\n",
      "Epoch 18/20\n",
      "126/126 [==============================] - 1s 7ms/step - loss: 0.3773 - accuracy: 0.8533 - val_loss: 1.4651 - val_accuracy: 0.6855\n",
      "Epoch 19/20\n",
      "126/126 [==============================] - 1s 7ms/step - loss: 0.3521 - accuracy: 0.8655 - val_loss: 1.5972 - val_accuracy: 0.6528\n",
      "Epoch 20/20\n",
      "126/126 [==============================] - 1s 7ms/step - loss: 0.3352 - accuracy: 0.8690 - val_loss: 1.8412 - val_accuracy: 0.6796\n"
     ]
    },
    {
     "data": {
      "text/plain": [
       "<tensorflow.python.keras.callbacks.History at 0x1bded4554c8>"
      ]
     },
     "execution_count": 40,
     "metadata": {},
     "output_type": "execute_result"
    }
   ],
   "source": [
    "model.fit(X_train, y_train, validation_split = 0.2, epochs=20)"
   ]
  },
  {
   "cell_type": "code",
   "execution_count": 41,
   "metadata": {},
   "outputs": [
    {
     "name": "stdout",
     "output_type": "stream",
     "text": [
      "68/68 [==============================] - 0s 2ms/step - loss: 1.9248 - accuracy: 0.6415\n"
     ]
    },
    {
     "data": {
      "text/plain": [
       "[1.9247902631759644, 0.64150071144104]"
      ]
     },
     "execution_count": 41,
     "metadata": {},
     "output_type": "execute_result"
    }
   ],
   "source": [
    "model.evaluate(X_test,y_test)"
   ]
  },
  {
   "cell_type": "markdown",
   "metadata": {},
   "source": [
    "ค่า loss = 1.924 , acc = 0.6415"
   ]
  },
  {
   "cell_type": "code",
   "execution_count": 42,
   "metadata": {},
   "outputs": [],
   "source": [
    "y_pred = model.predict(X_test)"
   ]
  },
  {
   "cell_type": "code",
   "execution_count": 43,
   "metadata": {},
   "outputs": [],
   "source": [
    "new_y_pred = []\n",
    "for i in range(len(y_pred)):\n",
    "    new_y_pred.append(np.argmax(y_pred[i]))"
   ]
  },
  {
   "cell_type": "code",
   "execution_count": 44,
   "metadata": {},
   "outputs": [],
   "source": [
    "y_pred = new_y_pred"
   ]
  },
  {
   "cell_type": "code",
   "execution_count": 45,
   "metadata": {},
   "outputs": [],
   "source": [
    "from sklearn.metrics import f1_score"
   ]
  },
  {
   "cell_type": "code",
   "execution_count": 46,
   "metadata": {},
   "outputs": [
    {
     "data": {
      "text/plain": [
       "0.6415006947660954"
      ]
     },
     "execution_count": 46,
     "metadata": {},
     "output_type": "execute_result"
    }
   ],
   "source": [
    "f1_score(y_test, y_pred, average='micro')"
   ]
  },
  {
   "cell_type": "markdown",
   "metadata": {},
   "source": [
    "ค่า f1-score = 0.6415"
   ]
  },
  {
   "cell_type": "code",
   "execution_count": 47,
   "metadata": {},
   "outputs": [
    {
     "name": "stdout",
     "output_type": "stream",
     "text": [
      "              precision    recall  f1-score   support\n",
      "\n",
      "           0       0.65      0.40      0.50       319\n",
      "           1       0.48      0.52      0.49       316\n",
      "           2       0.55      0.57      0.56       320\n",
      "           3       0.71      0.75      0.73       278\n",
      "           4       1.00      1.00      1.00       304\n",
      "           5       0.76      0.72      0.74       308\n",
      "           6       0.44      0.56      0.49       314\n",
      "\n",
      "    accuracy                           0.64      2159\n",
      "   macro avg       0.66      0.65      0.65      2159\n",
      "weighted avg       0.65      0.64      0.64      2159\n",
      "\n"
     ]
    }
   ],
   "source": [
    "from sklearn.metrics import classification_report\n",
    "\n",
    "print(classification_report(y_test, y_pred))"
   ]
  },
  {
   "cell_type": "code",
   "execution_count": null,
   "metadata": {},
   "outputs": [],
   "source": []
  }
 ],
 "metadata": {
  "kernelspec": {
   "display_name": "Python 3",
   "language": "python",
   "name": "python3"
  },
  "language_info": {
   "codemirror_mode": {
    "name": "ipython",
    "version": 3
   },
   "file_extension": ".py",
   "mimetype": "text/x-python",
   "name": "python",
   "nbconvert_exporter": "python",
   "pygments_lexer": "ipython3",
   "version": "3.7.6"
  }
 },
 "nbformat": 4,
 "nbformat_minor": 4
}

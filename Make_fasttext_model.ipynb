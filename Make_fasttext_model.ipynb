{
 "cells": [
  {
   "cell_type": "code",
   "execution_count": 1,
   "metadata": {},
   "outputs": [],
   "source": [
    "file = open(\"neg_tweets_5M_full_cutkum_token_train.txt\", \"r\",encoding=\"utf8\")"
   ]
  },
  {
   "cell_type": "code",
   "execution_count": 3,
   "metadata": {},
   "outputs": [],
   "source": [
    "negative_words = []\n",
    "for line in file:\n",
    "    word_corpus = line.split('\\t')\n",
    "    negative_words.append(word_corpus[1].split(' '))"
   ]
  },
  {
   "cell_type": "code",
   "execution_count": 5,
   "metadata": {},
   "outputs": [],
   "source": [
    "file = open(\"pos_tweets_5M_full_cutkum_token_train.txt\", \"r\",encoding=\"utf8\")"
   ]
  },
  {
   "cell_type": "code",
   "execution_count": 6,
   "metadata": {},
   "outputs": [],
   "source": [
    "positive_words = []\n",
    "for line in file:\n",
    "    word_corpus = line.split('\\t')\n",
    "    positive_words.append(word_corpus[1].split(' '))"
   ]
  },
  {
   "cell_type": "code",
   "execution_count": 9,
   "metadata": {},
   "outputs": [],
   "source": [
    "with open('tokenized-negative_words.txt', 'w',encoding='utf-8') as f:\n",
    "    for token_line in negative_words:\n",
    "        joint_line = ''\n",
    "        for token in token_line:\n",
    "            joint_line += (token + ' ')\n",
    "        f.write(joint_line)"
   ]
  },
  {
   "cell_type": "code",
   "execution_count": 10,
   "metadata": {},
   "outputs": [],
   "source": [
    "with open('tokenized-positive_words.txt', 'w',encoding='utf-8') as f:\n",
    "    for token_line in positive_words:\n",
    "        joint_line = ''\n",
    "        for token in token_line:\n",
    "            joint_line += (token + ' ')\n",
    "        f.write(joint_line)"
   ]
  },
  {
   "cell_type": "code",
   "execution_count": 11,
   "metadata": {},
   "outputs": [],
   "source": [
    "all_words = positive_words + negative_words"
   ]
  },
  {
   "cell_type": "code",
   "execution_count": 12,
   "metadata": {},
   "outputs": [],
   "source": [
    "with open('tokenized-all_words.txt', 'w',encoding='utf-8') as f:\n",
    "    for token_line in all_words:\n",
    "        joint_line = ''\n",
    "        for token in token_line:\n",
    "            joint_line += (token + ' ')\n",
    "        f.write(joint_line)"
   ]
  },
  {
   "cell_type": "code",
   "execution_count": 13,
   "metadata": {},
   "outputs": [],
   "source": [
    "import fasttext"
   ]
  },
  {
   "cell_type": "code",
   "execution_count": 14,
   "metadata": {},
   "outputs": [],
   "source": [
    "model_positive = fasttext.train_unsupervised('tokenized-positive_words.txt', model='skipgram')"
   ]
  },
  {
   "cell_type": "code",
   "execution_count": 15,
   "metadata": {},
   "outputs": [],
   "source": [
    "model_positive.save_model(\"model_positive.bin\")"
   ]
  },
  {
   "cell_type": "code",
   "execution_count": 16,
   "metadata": {},
   "outputs": [],
   "source": [
    "model_negative = fasttext.train_unsupervised('tokenized-negative_words.txt', model='skipgram')"
   ]
  },
  {
   "cell_type": "code",
   "execution_count": 17,
   "metadata": {},
   "outputs": [],
   "source": [
    "model_negative.save_model(\"model_negative.bin\")"
   ]
  },
  {
   "cell_type": "code",
   "execution_count": 18,
   "metadata": {},
   "outputs": [],
   "source": [
    "model_all = fasttext.train_unsupervised('tokenized-all_words.txt', model='skipgram')"
   ]
  },
  {
   "cell_type": "code",
   "execution_count": 19,
   "metadata": {},
   "outputs": [],
   "source": [
    "model_all.save_model(\"model_all.bin\")"
   ]
  },
  {
   "cell_type": "code",
   "execution_count": null,
   "metadata": {},
   "outputs": [],
   "source": []
  }
 ],
 "metadata": {
  "kernelspec": {
   "display_name": "Python 3",
   "language": "python",
   "name": "python3"
  },
  "language_info": {
   "codemirror_mode": {
    "name": "ipython",
    "version": 3
   },
   "file_extension": ".py",
   "mimetype": "text/x-python",
   "name": "python",
   "nbconvert_exporter": "python",
   "pygments_lexer": "ipython3",
   "version": "3.7.6"
  }
 },
 "nbformat": 4,
 "nbformat_minor": 4
}
